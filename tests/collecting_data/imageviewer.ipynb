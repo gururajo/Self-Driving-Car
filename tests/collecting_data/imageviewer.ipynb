{
 "cells": [
  {
   "cell_type": "code",
   "execution_count": 1,
   "id": "documentary-lending",
   "metadata": {},
   "outputs": [],
   "source": [
    "import time,threading\n",
    "import cv2,os,sys,socket,struct,pickle,psutil,random\n",
    "import numpy as np\n",
    "from tkinter import *\n",
    "import matplotlib.pyplot as plt\n",
    "\n",
    "datalist=sorted(os.listdir('DATA/'))\n"
   ]
  },
  {
   "cell_type": "code",
   "execution_count": 3,
   "id": "neutral-proxy",
   "metadata": {},
   "outputs": [],
   "source": [
    "data=np.load(\"DATA/\"+datalist[0],allow_pickle=True)\n"
   ]
  },
  {
   "cell_type": "code",
   "execution_count": 24,
   "id": "documented-lease",
   "metadata": {},
   "outputs": [],
   "source": [
    "data=data['arr_0']\n"
   ]
  },
  {
   "cell_type": "code",
   "execution_count": 26,
   "metadata": {},
   "outputs": [
    {
     "output_type": "execute_result",
     "data": {
      "text/plain": [
       "0.08349514563106795"
      ]
     },
     "metadata": {},
     "execution_count": 26
    }
   ],
   "source": [
    "data[1][1]"
   ]
  },
  {
   "cell_type": "code",
   "execution_count": null,
   "id": "bearing-victor",
   "metadata": {},
   "outputs": [],
   "source": [
    "np.take(data,np.random.permutation(data.shape[0]),axis=0,out=data)"
   ]
  },
  {
   "cell_type": "code",
   "execution_count": null,
   "id": "corresponding-multimedia",
   "metadata": {},
   "outputs": [],
   "source": [
    "sys.getsizeof(data)"
   ]
  },
  {
   "cell_type": "code",
   "execution_count": null,
   "id": "varying-programmer",
   "metadata": {
    "scrolled": true
   },
   "outputs": [],
   "source": [
    "data[0]"
   ]
  },
  {
   "cell_type": "code",
   "execution_count": null,
   "id": "pursuant-shift",
   "metadata": {},
   "outputs": [],
   "source": [
    "data= np.array(0)"
   ]
  },
  {
   "cell_type": "code",
   "execution_count": null,
   "id": "underlying-small",
   "metadata": {},
   "outputs": [],
   "source": [
    "b=4\n",
    "a,b=b,3"
   ]
  },
  {
   "cell_type": "code",
   "execution_count": null,
   "id": "instructional-acting",
   "metadata": {},
   "outputs": [],
   "source": []
  }
 ],
 "metadata": {
  "kernelspec": {
   "name": "python385jvsc74a57bd0d60db9606b36a4ba5bacdff1e874f3f4dd402a5cd6119c65a102d4511213ab42",
   "display_name": "Python 3.8.5 64-bit ('AVnG': conda)"
  },
  "language_info": {
   "codemirror_mode": {
    "name": "ipython",
    "version": 3
   },
   "file_extension": ".py",
   "mimetype": "text/x-python",
   "name": "python",
   "nbconvert_exporter": "python",
   "pygments_lexer": "ipython3",
   "version": "3.8.5"
  }
 },
 "nbformat": 4,
 "nbformat_minor": 5
}