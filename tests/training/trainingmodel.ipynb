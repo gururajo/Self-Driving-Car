{
 "cells": [
  {
   "cell_type": "code",
   "execution_count": null,
   "id": "armed-baker",
   "metadata": {},
   "outputs": [],
   "source": [
    "import tensorflow as tf\n",
    "import numpy as np\n",
    "import os,pickle,cv2\n",
    "import matplotlib.pyplot as plt\n",
    "import time\n",
    "from modell import *"
   ]
  },
  {
   "cell_type": "code",
   "execution_count": null,
   "id": "economic-spyware",
   "metadata": {},
   "outputs": [],
   "source": [
    "datalist=os.listdir(\"DATA/\")"
   ]
  },
  {
   "cell_type": "code",
   "execution_count": null,
   "id": "sharing-processor",
   "metadata": {},
   "outputs": [],
   "source": [
    "datalist"
   ]
  },
  {
   "cell_type": "code",
   "execution_count": null,
   "metadata": {},
   "outputs": [],
   "source": [
    "model=tf.keras.models.load_model(\"model/mymodel\")"
   ]
  },
  {
   "cell_type": "code",
   "execution_count": null,
   "metadata": {},
   "outputs": [],
   "source": [
    "model=getmodel()"
   ]
  },
  {
   "cell_type": "code",
   "execution_count": 40,
   "id": "offensive-father",
   "metadata": {},
   "outputs": [
    {
     "output_type": "stream",
     "name": "stdout",
     "text": [
      "Epoch 1/5\n",
      "33/33 [==============================] - 1s 17ms/step - loss: 0.0036 - accuracy: 0.0260\n",
      "Epoch 2/5\n",
      "33/33 [==============================] - 0s 15ms/step - loss: 0.0010 - accuracy: 0.0260\n",
      "Epoch 3/5\n",
      "33/33 [==============================] - 0s 14ms/step - loss: 8.8568e-04 - accuracy: 0.0260\n",
      "Epoch 4/5\n",
      "33/33 [==============================] - 0s 14ms/step - loss: 7.0488e-04 - accuracy: 0.0260\n",
      "Epoch 5/5\n",
      "33/33 [==============================] - 0s 14ms/step - loss: 6.2269e-04 - accuracy: 0.0260\n",
      "Epoch 1/5\n",
      "31/31 [==============================] - 0s 15ms/step - loss: 0.0014 - accuracy: 0.0263\n",
      "Epoch 2/5\n",
      "31/31 [==============================] - 0s 14ms/step - loss: 0.0010 - accuracy: 0.0263\n",
      "Epoch 3/5\n",
      "31/31 [==============================] - 0s 15ms/step - loss: 8.3399e-04 - accuracy: 0.0263\n",
      "Epoch 4/5\n",
      "31/31 [==============================] - 0s 14ms/step - loss: 0.0011 - accuracy: 0.0263\n",
      "Epoch 5/5\n",
      "31/31 [==============================] - 0s 14ms/step - loss: 5.9060e-04 - accuracy: 0.0263\n",
      "2.3201208114624023\n"
     ]
    }
   ],
   "source": [
    "with tf.device('/gpu:0'):\n",
    "    for i in range(len(datalist)):\n",
    "        data=np.load(\"DATA/\"+datalist[i],allow_pickle=True,)\n",
    "        datax=data['arr_0']\n",
    "        datay=data['arr_1']\n",
    "        start=time.time()\n",
    "        model.fit(datax,datay,\n",
    "                batch_size=32,\n",
    "            epochs=5\n",
    "            )\n",
    "        end=time.time()\n",
    "print(end-start)"
   ]
  },
  {
   "cell_type": "code",
   "execution_count": null,
   "id": "coordinated-requirement",
   "metadata": {},
   "outputs": [],
   "source": [
    "cam=cv2.VideoCapture(0)\n",
    "while True:\n",
    "    if not cam.isOpened():\n",
    "        print(\"camera errror\")\n",
    "        break\n",
    "    res,frame=cam.read()\n",
    "    if not res:\n",
    "        print(\"problem reading camera\")\n",
    "        break\n",
    "    frame=cv2.resize(frame,(200,66),interpolation=cv2.INTER_AREA)\n",
    "    cv2.imshow(\"frame\",frame)\n",
    "    if cv2.waitKey(1) & 0xff == 'q': break\n",
    "    # np.resize(frame,(1,66,200,3))\n",
    "    frame=frame.astype(\"float32\")\n",
    "    input_tensor = np.expand_dims(frame, 0)\n",
    "\n",
    "    predictions = model.predict(input_tensor)\n",
    "    \n",
    "    print(predictions,int(predictions[0]*515+1285))"
   ]
  },
  {
   "cell_type": "code",
   "execution_count": null,
   "metadata": {},
   "outputs": [],
   "source": [
    "cv2.destroyAllWindows()\n",
    "cam.release()"
   ]
  },
  {
   "cell_type": "code",
   "execution_count": null,
   "id": "prostate-soccer",
   "metadata": {},
   "outputs": [],
   "source": [
    "model.save(\n",
    "    \"model/mymodel\",\n",
    "    overwrite=True,\n",
    "    include_optimizer=True,\n",
    "    save_format=None,\n",
    "    signatures=None,\n",
    "    options=None,\n",
    ")"
   ]
  },
  {
   "cell_type": "code",
   "execution_count": null,
   "metadata": {},
   "outputs": [],
   "source": [
    "predections=model.predict(datax)\n",
    "predections*515+1285"
   ]
  },
  {
   "cell_type": "code",
   "execution_count": null,
   "id": "southern-apollo",
   "metadata": {},
   "outputs": [],
   "source": [
    "start=time.time()\n",
    "model.fit(datax,datay,\n",
    "         batch_size=32,\n",
    "    epochs=10,\n",
    "          validation_split=0.1\n",
    "     )\n",
    "end=time.time()\n",
    "print(end-start)"
   ]
  },
  {
   "cell_type": "code",
   "execution_count": null,
   "metadata": {},
   "outputs": [],
   "source": [
    "tf.python.client.device_lib.list_local_devices()[0]\n"
   ]
  },
  {
   "cell_type": "code",
   "execution_count": 32,
   "metadata": {},
   "outputs": [],
   "source": [
    "a=tf.device('/gpu:0')\n",
    "\n"
   ]
  },
  {
   "cell_type": "code",
   "execution_count": 33,
   "metadata": {},
   "outputs": [
    {
     "output_type": "execute_result",
     "data": {
      "text/plain": [
       "['__class__',\n",
       " '__delattr__',\n",
       " '__dict__',\n",
       " '__dir__',\n",
       " '__doc__',\n",
       " '__enter__',\n",
       " '__eq__',\n",
       " '__exit__',\n",
       " '__format__',\n",
       " '__ge__',\n",
       " '__getattribute__',\n",
       " '__gt__',\n",
       " '__hash__',\n",
       " '__init__',\n",
       " '__init_subclass__',\n",
       " '__le__',\n",
       " '__lt__',\n",
       " '__module__',\n",
       " '__ne__',\n",
       " '__new__',\n",
       " '__reduce__',\n",
       " '__reduce_ex__',\n",
       " '__repr__',\n",
       " '__setattr__',\n",
       " '__sizeof__',\n",
       " '__str__',\n",
       " '__subclasshook__',\n",
       " '__weakref__',\n",
       " '_ctx',\n",
       " '_device_name',\n",
       " '_stack']"
      ]
     },
     "metadata": {},
     "execution_count": 33
    }
   ],
   "source": [
    "dir(a)"
   ]
  },
  {
   "cell_type": "code",
   "execution_count": 35,
   "metadata": {},
   "outputs": [
    {
     "output_type": "error",
     "ename": "TypeError",
     "evalue": "set_logical_device_configuration() missing 2 required positional arguments: 'device' and 'logical_devices'",
     "traceback": [
      "\u001b[1;31m---------------------------------------------------------------------------\u001b[0m",
      "\u001b[1;31mTypeError\u001b[0m                                 Traceback (most recent call last)",
      "\u001b[1;32m<ipython-input-35-24e92775d02e>\u001b[0m in \u001b[0;36m<module>\u001b[1;34m\u001b[0m\n\u001b[0;32m      1\u001b[0m \u001b[1;31m# tf.config.list_physical_devices()\u001b[0m\u001b[1;33m\u001b[0m\u001b[1;33m\u001b[0m\u001b[1;33m\u001b[0m\u001b[0m\n\u001b[1;32m----> 2\u001b[1;33m \u001b[0mtf\u001b[0m\u001b[1;33m.\u001b[0m\u001b[0mconfig\u001b[0m\u001b[1;33m.\u001b[0m\u001b[0mexperimental\u001b[0m\u001b[1;33m.\u001b[0m\u001b[0mset_virtual_device_configuration\u001b[0m\u001b[1;33m(\u001b[0m\u001b[1;33m)\u001b[0m\u001b[1;33m\u001b[0m\u001b[1;33m\u001b[0m\u001b[0m\n\u001b[0m",
      "\u001b[1;31mTypeError\u001b[0m: set_logical_device_configuration() missing 2 required positional arguments: 'device' and 'logical_devices'"
     ]
    }
   ],
   "source": [
    "# tf.config.list_physical_devices()\n",
    "tf.config.experimental.set_virtual_device_configuration()"
   ]
  },
  {
   "cell_type": "code",
   "execution_count": 38,
   "metadata": {},
   "outputs": [
    {
     "output_type": "error",
     "ename": "AttributeError",
     "evalue": "module 'tensorflow' has no attribute 'Session'",
     "traceback": [
      "\u001b[1;31m---------------------------------------------------------------------------\u001b[0m",
      "\u001b[1;31mAttributeError\u001b[0m                            Traceback (most recent call last)",
      "\u001b[1;32m<ipython-input-38-593056b47912>\u001b[0m in \u001b[0;36m<module>\u001b[1;34m\u001b[0m\n\u001b[1;32m----> 1\u001b[1;33m \u001b[0mtf\u001b[0m\u001b[1;33m.\u001b[0m\u001b[0mSession\u001b[0m\u001b[1;33m(\u001b[0m\u001b[1;33m)\u001b[0m\u001b[1;33m\u001b[0m\u001b[1;33m\u001b[0m\u001b[0m\n\u001b[0m",
      "\u001b[1;31mAttributeError\u001b[0m: module 'tensorflow' has no attribute 'Session'"
     ]
    }
   ],
   "source": [
    "tf.Session()"
   ]
  },
  {
   "cell_type": "code",
   "execution_count": null,
   "metadata": {},
   "outputs": [],
   "source": []
  }
 ],
 "metadata": {
  "kernelspec": {
   "name": "python379jvsc74a57bd0e0475bade588af9e2ba53317b0db2b7b714c6cd52ec31a6349cbe79a27ef7c64",
   "display_name": "Python 3.7.9 64-bit ('AV': conda)"
  },
  "language_info": {
   "codemirror_mode": {
    "name": "ipython",
    "version": 3
   },
   "file_extension": ".py",
   "mimetype": "text/x-python",
   "name": "python",
   "nbconvert_exporter": "python",
   "pygments_lexer": "ipython3",
   "version": "3.7.9"
  }
 },
 "nbformat": 4,
 "nbformat_minor": 5
}